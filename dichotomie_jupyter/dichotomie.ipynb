{
 "cells": [
  {
   "cell_type": "code",
   "execution_count": 6,
   "metadata": {},
   "outputs": [],
   "source": [
    "def recherche_dichotomique(tab,x):\n",
    "    \"\"\" tab est un tableau trié de façon croissante :\n",
    "    si x est dans tab, cela renvoie l'indice correspondant\n",
    "    sinon False\"\"\"\n",
    "    gauche = 0\n",
    "    droite = len(tab)-1\n",
    "    \n",
    "    while gauche <= droite :\n",
    "        # Calcul du milieu de l'intervalle\n",
    "        milieu = (gauche + droite) // 2\n",
    "        \n",
    "        if tab[milieu] == x:\n",
    "            # on a trouvé x dans le tableau,\n",
    "            # à la position milieu\n",
    "            return milieu\n",
    "        \n",
    "        elif tab[milieu] > x:\n",
    "            # on cherche entre gauche et milieu - 1\n",
    "            droite = milieu - 1\n",
    "        \n",
    "        else: \n",
    "            # on a tab[milieu] < x\n",
    "            # on cherche entre milieu + 1 et droite\n",
    "            gauche = milieu + 1\n",
    " \n",
    "    # on est sorti de la boucle sans trouver x\n",
    "    return False\n"
   ]
  },
  {
   "cell_type": "code",
   "execution_count": 12,
   "metadata": {},
   "outputs": [
    {
     "name": "stdout",
     "output_type": "stream",
     "text": [
      "6\n",
      "False\n"
     ]
    }
   ],
   "source": [
    "t =[2, 5, 7, 7, 9, 14, 25, 25, 30]\n",
    "x= 25\n",
    "print(recherche_dichotomique(t,x))\n",
    "\n",
    "x= 10\n",
    "print(recherche_dichotomique(t,x))\n"
   ]
  },
  {
   "cell_type": "code",
   "execution_count": 13,
   "metadata": {},
   "outputs": [
    {
     "data": {
      "text/plain": [
       "1267650600228229401496703205376"
      ]
     },
     "execution_count": 13,
     "metadata": {},
     "output_type": "execute_result"
    }
   ],
   "source": [
    "2**100"
   ]
  },
  {
   "cell_type": "code",
   "execution_count": null,
   "metadata": {},
   "outputs": [],
   "source": []
  }
 ],
 "metadata": {
  "kernelspec": {
   "display_name": "Python 3",
   "language": "python",
   "name": "python3"
  },
  "language_info": {
   "codemirror_mode": {
    "name": "ipython",
    "version": 3
   },
   "file_extension": ".py",
   "mimetype": "text/x-python",
   "name": "python",
   "nbconvert_exporter": "python",
   "pygments_lexer": "ipython3",
   "version": "3.7.4"
  }
 },
 "nbformat": 4,
 "nbformat_minor": 2
}
