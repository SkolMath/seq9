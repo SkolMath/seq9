{
 "cells": [
  {
   "cell_type": "code",
   "execution_count": 20,
   "metadata": {},
   "outputs": [],
   "source": [
    "# Réponse\n",
    "\n",
    "def poids(liste):\n",
    "    total=0\n",
    "    for elem in liste:\n",
    "        total+=elem[2]\n",
    "    return total\n"
   ]
  },
  {
   "cell_type": "code",
   "execution_count": 21,
   "metadata": {},
   "outputs": [],
   "source": [
    "# Réponse\n",
    "\n",
    "def gain(liste):\n",
    "    valeur=0\n",
    "    for elem in liste:\n",
    "        valeur+=elem[1]\n",
    "    return valeur\n"
   ]
  },
  {
   "cell_type": "markdown",
   "metadata": {},
   "source": [
    "# Force brute"
   ]
  },
  {
   "cell_type": "code",
   "execution_count": 26,
   "metadata": {},
   "outputs": [
    {
     "name": "stdout",
     "output_type": "stream",
     "text": [
      "(['rectangle', 4, 10],)\n",
      "(['losange', 2, 3],)\n",
      "(['ovale', 10, 4],)\n",
      "(['rond', 1, 1],)\n",
      "(['triangle', 2, 2],)\n",
      "(['rectangle', 4, 10], ['losange', 2, 3])\n",
      "(['rectangle', 4, 10], ['ovale', 10, 4])\n",
      "(['rectangle', 4, 10], ['rond', 1, 1])\n",
      "(['rectangle', 4, 10], ['triangle', 2, 2])\n",
      "(['losange', 2, 3], ['ovale', 10, 4])\n",
      "(['losange', 2, 3], ['rond', 1, 1])\n",
      "(['losange', 2, 3], ['triangle', 2, 2])\n",
      "(['ovale', 10, 4], ['rond', 1, 1])\n",
      "(['ovale', 10, 4], ['triangle', 2, 2])\n",
      "(['rond', 1, 1], ['triangle', 2, 2])\n",
      "(['rectangle', 4, 10], ['losange', 2, 3], ['ovale', 10, 4])\n",
      "(['rectangle', 4, 10], ['losange', 2, 3], ['rond', 1, 1])\n",
      "(['rectangle', 4, 10], ['losange', 2, 3], ['triangle', 2, 2])\n",
      "(['rectangle', 4, 10], ['ovale', 10, 4], ['rond', 1, 1])\n",
      "(['rectangle', 4, 10], ['ovale', 10, 4], ['triangle', 2, 2])\n",
      "(['rectangle', 4, 10], ['rond', 1, 1], ['triangle', 2, 2])\n",
      "(['losange', 2, 3], ['ovale', 10, 4], ['rond', 1, 1])\n",
      "(['losange', 2, 3], ['ovale', 10, 4], ['triangle', 2, 2])\n",
      "(['losange', 2, 3], ['rond', 1, 1], ['triangle', 2, 2])\n",
      "(['ovale', 10, 4], ['rond', 1, 1], ['triangle', 2, 2])\n",
      "(['rectangle', 4, 10], ['losange', 2, 3], ['ovale', 10, 4], ['rond', 1, 1])\n",
      "(['rectangle', 4, 10], ['losange', 2, 3], ['ovale', 10, 4], ['triangle', 2, 2])\n",
      "(['rectangle', 4, 10], ['losange', 2, 3], ['rond', 1, 1], ['triangle', 2, 2])\n",
      "(['rectangle', 4, 10], ['ovale', 10, 4], ['rond', 1, 1], ['triangle', 2, 2])\n",
      "(['losange', 2, 3], ['ovale', 10, 4], ['rond', 1, 1], ['triangle', 2, 2])\n",
      "30\n"
     ]
    }
   ],
   "source": [
    "# pour obtenir toutes les combinaisons possibles\n",
    "# on utilisera la fonction combinations de la bilbliothèque itertools\n",
    "\n",
    "from itertools import combinations\n",
    "\n",
    "data = [['rectangle',4,10],['losange',2,3],['ovale',10,4],['rond',1,1],['triangle',2,2]]\n",
    "j=0\n",
    "for i in range(1,len(data)):\n",
    "    for comb in combinations ( data , i) :\n",
    "        print(comb) # retourne un tuple\n",
    "        j+=1\n",
    "print(j)"
   ]
  },
  {
   "cell_type": "code",
   "execution_count": 27,
   "metadata": {
    "scrolled": true
   },
   "outputs": [],
   "source": [
    "#Réponse\n",
    "\n",
    "from itertools import combinations\n",
    "\n",
    "def combinaison_optimiser(liste):\n",
    "    \n",
    "    valeur_max=0 # initiatilisation de la valeur max\n",
    "    poids_max=0  # initialisation du poids max\n",
    "    comb_max=()  # initiatilisation de la combinaison max \n",
    "    \n",
    "    for nbre in range(1,len(liste)):\n",
    "        for comb in combinations ( liste , nbre) :\n",
    "            # toutes les combinaisons 1, 2, 3, 4, 5...\n",
    "            poids_comb=poids(comb)  # calcul du poids de la combinaison\n",
    "            valeur_comb=gain(comb) # calcul de la valeur de la combinaison\n",
    "            \n",
    "            if poids_comb <= 14 and valeur_max<valeur_comb:\n",
    "                valeur_max=valeur_comb # garde la valeur max\n",
    "                comb_max=comb          # garde la meilleure combinaison\n",
    "                poids_max=poids_comb\n",
    "                \n",
    "    return comb_max, valeur_max, poids_max\n",
    "   \n"
   ]
  },
  {
   "cell_type": "code",
   "execution_count": 24,
   "metadata": {},
   "outputs": [
    {
     "name": "stdout",
     "output_type": "stream",
     "text": [
      "((['losange', 2, 3], ['ovale', 10, 4], ['rond', 1, 1], ['triangle', 2, 2]), 15, 10)\n"
     ]
    }
   ],
   "source": [
    "print(combinaison_optimiser(data))"
   ]
  },
  {
   "cell_type": "markdown",
   "metadata": {},
   "source": [
    "# Algorithme glouton -> valeur"
   ]
  },
  {
   "cell_type": "code",
   "execution_count": 39,
   "metadata": {},
   "outputs": [
    {
     "data": {
      "text/plain": [
       "([['ovale', 10, 4], ['rectangle', 4, 10]], 14, 14)"
      ]
     },
     "execution_count": 39,
     "metadata": {},
     "output_type": "execute_result"
    }
   ],
   "source": [
    "# Reponse\n",
    "\n",
    "def glouton_valeur(liste, poids_max):\n",
    "    \n",
    "    liste_optimisee = []\n",
    "    stockage_dispo=poids_max\n",
    "    \n",
    "    # tri décroissant de la liste en entrée par rapport à la valeur\n",
    "    liste = sorted(liste, key=lambda liste : liste[1], reverse = True)\n",
    "        \n",
    "    for elem in liste:\n",
    "        if (stockage_dispo - elem[2])>=0:\n",
    "            liste_optimisee.append(elem)\n",
    "            stockage_dispo-=elem[2]\n",
    "    \n",
    "    poids_liste=poids(liste_optimisee )  # calcul du poids de la combinaison\n",
    "    valeur_liste=gain(liste_optimisee ) # calcul de la valeur de la combinaison\n",
    "    \n",
    "    return liste_optimisee, valeur_liste, poids_liste    \n",
    "        \n",
    "        \n",
    "glouton_valeur(data, 14)\n"
   ]
  },
  {
   "cell_type": "markdown",
   "metadata": {},
   "source": [
    "# Algorithme glouton -> poids"
   ]
  },
  {
   "cell_type": "code",
   "execution_count": 17,
   "metadata": {},
   "outputs": [
    {
     "name": "stdout",
     "output_type": "stream",
     "text": [
      "([['rond', 1, 1], ['triangle', 2, 2], ['losange', 2, 3], ['ovale', 10, 4]], 15, 10)\n"
     ]
    }
   ],
   "source": [
    "# Reponse\n",
    "\n",
    "def glouton_poids(liste, poids_max):\n",
    "    \n",
    "    liste_optimisee = []\n",
    "    stockage_dispo=poids_max\n",
    "    \n",
    "    # tri croissant de la liste en entrée par rapport au poids\n",
    "    liste = sorted(liste, key=lambda liste : liste[2], reverse = False)\n",
    "        \n",
    "    for elem in liste:\n",
    "        if (stockage_dispo - elem[2])>=0:\n",
    "            liste_optimisee.append(elem)\n",
    "            stockage_dispo-=elem[2]\n",
    "    \n",
    "    poids_liste=poids(liste_optimisee )  # calcul du poids de la combinaison\n",
    "    valeur_liste=gain(liste_optimisee ) # calcul de la valeur de la combinaison\n",
    "    \n",
    "    return liste_optimisee, valeur_liste, poids_liste    \n",
    "        \n",
    "        \n",
    "print(glouton_poids(data, 14))\n"
   ]
  },
  {
   "cell_type": "markdown",
   "metadata": {},
   "source": [
    "# Algorithme glouton -> rapport valeur / poids"
   ]
  },
  {
   "cell_type": "code",
   "execution_count": 18,
   "metadata": {},
   "outputs": [
    {
     "name": "stdout",
     "output_type": "stream",
     "text": [
      "[['rectangle', 4, 10, 0.4], ['losange', 2, 3, 0.67], ['ovale', 10, 4, 2.5], ['rond', 1, 1, 1.0], ['triangle', 2, 2, 1.0]]\n"
     ]
    }
   ],
   "source": [
    "# Reponse\n",
    "\n",
    "def ajout_rapport_prix_poids(liste):\n",
    "    list\n",
    "    for elem in liste:\n",
    "        rapport=round(elem[1]/elem[2],2)\n",
    "        elem.append(rapport)\n",
    "    return liste\n",
    "\n",
    "print(ajout_rapport_prix_poids(data))"
   ]
  },
  {
   "cell_type": "code",
   "execution_count": 19,
   "metadata": {},
   "outputs": [
    {
     "name": "stdout",
     "output_type": "stream",
     "text": [
      "([['ovale', 10, 4, 2.5], ['rond', 1, 1, 1.0], ['triangle', 2, 2, 1.0], ['losange', 2, 3, 0.67]], 15, 10)\n"
     ]
    }
   ],
   "source": [
    "# Reponse\n",
    "\n",
    "def glouton_valeur_poids(liste, poids_max):\n",
    "    \n",
    "    liste_optimisee = []\n",
    "    stockage_dispo=poids_max\n",
    "    \n",
    "    # tri décroissant de la liste en entrée par rapport à la valeur/poids\n",
    "    liste = sorted(liste, key=lambda liste : liste[3], reverse = True)\n",
    "        \n",
    "    for elem in liste:\n",
    "        if (stockage_dispo - elem[2])>=0:\n",
    "            liste_optimisee.append(elem)\n",
    "            stockage_dispo-=elem[2]\n",
    "    \n",
    "    poids_liste=poids(liste_optimisee )  # calcul du poids de la combinaison\n",
    "    valeur_liste=gain(liste_optimisee ) # calcul de la valeur de la combinaison\n",
    "    \n",
    "    return liste_optimisee, valeur_liste, poids_liste    \n",
    "        \n",
    "        \n",
    "print(glouton_valeur_poids(data, 15))"
   ]
  },
  {
   "cell_type": "markdown",
   "metadata": {},
   "source": [
    "# Rendu de monnaie : Algorithme glouton"
   ]
  },
  {
   "cell_type": "code",
   "execution_count": 37,
   "metadata": {},
   "outputs": [
    {
     "data": {
      "text/plain": [
       "[10, 2, 2]"
      ]
     },
     "execution_count": 37,
     "metadata": {},
     "output_type": "execute_result"
    }
   ],
   "source": [
    "def pieces_a_rendre(somme_a_rendre, systeme_monnaie):\n",
    "    # liste des pièces à rendre\n",
    "    lst_pieces =[]\n",
    "    # indice de la première pièce comparer à la somme à rendre\n",
    "    i =len(systeme_monnaie) - 1\n",
    "    while somme_a_rendre > 0:\n",
    "        valeur =systeme_monnaie[i]\n",
    "        if somme_a_rendre <valeur:\n",
    "            i -=1\n",
    "        else:\n",
    "            lst_pieces.append(valeur)\n",
    "            somme_a_rendre -=valeur\n",
    "    return lst_pieces\n",
    "\n",
    "# valeurs des pièces\n",
    "pieces = [1,2,5,10]\n",
    "pieces_a_rendre(14,pieces)"
   ]
  },
  {
   "cell_type": "code",
   "execution_count": 38,
   "metadata": {},
   "outputs": [
    {
     "data": {
      "text/plain": [
       "[10, 2, 2]"
      ]
     },
     "execution_count": 38,
     "metadata": {},
     "output_type": "execute_result"
    }
   ],
   "source": [
    "# valeurs des pièces\n",
    "pieces2 = [1,2,7,10]\n",
    "pieces_a_rendre(14,pieces2)"
   ]
  }
 ],
 "metadata": {
  "kernelspec": {
   "display_name": "Python 3",
   "language": "python",
   "name": "python3"
  },
  "language_info": {
   "codemirror_mode": {
    "name": "ipython",
    "version": 3
   },
   "file_extension": ".py",
   "mimetype": "text/x-python",
   "name": "python",
   "nbconvert_exporter": "python",
   "pygments_lexer": "ipython3",
   "version": "3.7.4"
  }
 },
 "nbformat": 4,
 "nbformat_minor": 2
}
