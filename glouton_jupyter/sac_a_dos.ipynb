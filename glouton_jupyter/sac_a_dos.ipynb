{
 "cells": [
  {
   "cell_type": "markdown",
   "metadata": {},
   "source": [
    "# Sac à dos"
   ]
  },
  {
   "cell_type": "markdown",
   "metadata": {},
   "source": [
    "### Le problème à résoudre"
   ]
  },
  {
   "cell_type": "markdown",
   "metadata": {},
   "source": [
    "Nous disposons d’une clé USB qui est déjà bien remplie et sur laquelle il ne reste que 5 Go de libre. Nous souhaitons copier sur cette clé des fichiers vidéos pour l’emporter en voyage. Chaque fichier a un poids et chaque vidéo a une durée. La durée n’est pas proportionnelle au poids car les fichiers sont de format différents, certaines vidéos sont de grande qualité, d’autres sont très compressées.\n",
    "\n",
    "Le tableau qui suit présente les fichiers disponibles avec les durées données en minutes "
   ]
  },
  {
   "cell_type": "markdown",
   "metadata": {},
   "source": [
    "<table>\n",
    "<tr><td>Fichier</td><td>video 1</td><td>video 2</td><td>video 3</td><td>video 4</td><td>video 5</td><td>video 6</td><td>video 7</td></tr>\n",
    "<tr><td>Durée</td><td>114</td><td>32</td><td>20</td><td>4</td><td>18</td><td>80</td><td>5</td></tr>\n",
    "<tr><td>Poids</td><td>4.57 Go</td><td>630 Mo</td><td>1.65 Go</td><td>85 Mo</td><td>2.15 Go</td><td>2.71 Go</td><td>320 Mo</td></tr>\n",
    "</table>"
   ]
  },
  {
   "cell_type": "markdown",
   "metadata": {},
   "source": [
    "## Question : quel sera le choix le plus optimal ?\n",
    "\n",
    "<ol><li>force brute</li>\n",
    "    <li>algorithme glouton\n",
    "        <ul>\n",
    "            <li>par durée</li>\n",
    "            <li>par poids</li>\n",
    "            <li>par durée/poids</li>\n",
    "        </ul>\n",
    "    </li>\n",
    "</ol>\n"
   ]
  },
  {
   "cell_type": "code",
   "execution_count": 26,
   "metadata": {},
   "outputs": [],
   "source": [
    "# Jeu de données constitué à partir du tableau\n",
    "\n",
    "videos = [['Video 1', 114, 4.57], ['Video 2', 32, 0.630],\n",
    "['Video 3', 20, 1.65], ['Video 4', 4, 0.085],\n",
    "['Video 5', 18, 2.15], ['Video 6', 80, 2.71],\n",
    "['Video 7', 5, 0.320]]"
   ]
  },
  {
   "cell_type": "code",
   "execution_count": 27,
   "metadata": {},
   "outputs": [
    {
     "data": {
      "text/plain": [
       "226"
      ]
     },
     "execution_count": 27,
     "metadata": {},
     "output_type": "execute_result"
    }
   ],
   "source": [
    "def gain_duree(liste):\n",
    "    valeur=0\n",
    "    for elem in liste:\n",
    "        valeur+=elem[1]\n",
    "    return valeur\n",
    "\n",
    "exemple = [['Video 1', 114, 4.57], ['Video 2', 32, 0.630],['Video 6', 80, 2.71] ]        \n",
    "gain_duree(exemple)"
   ]
  },
  {
   "cell_type": "code",
   "execution_count": 28,
   "metadata": {},
   "outputs": [
    {
     "data": {
      "text/plain": [
       "7.91"
      ]
     },
     "execution_count": 28,
     "metadata": {},
     "output_type": "execute_result"
    }
   ],
   "source": [
    "def poids(liste):\n",
    "    gigaoctet=0\n",
    "    for elem in liste:\n",
    "        gigaoctet+=elem[2]\n",
    "    return gigaoctet\n",
    "\n",
    "exemple = [['Video 1', 114, 4.57], ['Video 2', 32, 0.630],['Video 6', 80, 2.71] ]        \n",
    "poids(exemple)"
   ]
  },
  {
   "cell_type": "markdown",
   "metadata": {},
   "source": [
    "# Force brute"
   ]
  },
  {
   "cell_type": "code",
   "execution_count": 35,
   "metadata": {
    "scrolled": true
   },
   "outputs": [],
   "source": [
    "# Réponse\n",
    "\n"
   ]
  },
  {
   "cell_type": "markdown",
   "metadata": {},
   "source": [
    "# Algorithme glouton -> duree(valeur)\n",
    "\n",
    "le plus de musique par rapport à la durée"
   ]
  },
  {
   "cell_type": "code",
   "execution_count": 36,
   "metadata": {},
   "outputs": [],
   "source": [
    "# Réponse\n",
    "\n"
   ]
  },
  {
   "cell_type": "markdown",
   "metadata": {},
   "source": [
    "# Algorithme glouton -> poids\n",
    "\n",
    "le plus de musique par rapport au poids"
   ]
  },
  {
   "cell_type": "code",
   "execution_count": 37,
   "metadata": {},
   "outputs": [],
   "source": [
    "# Réponse\n",
    "\n"
   ]
  },
  {
   "cell_type": "markdown",
   "metadata": {},
   "source": [
    "# Algorithme glouton -> rapport duree / poids"
   ]
  },
  {
   "cell_type": "code",
   "execution_count": 38,
   "metadata": {},
   "outputs": [],
   "source": [
    "# Réponse\n",
    "\n"
   ]
  },
  {
   "cell_type": "markdown",
   "metadata": {},
   "source": [
    "# Conclusion\n",
    "\n"
   ]
  },
  {
   "cell_type": "code",
   "execution_count": null,
   "metadata": {},
   "outputs": [],
   "source": []
  }
 ],
 "metadata": {
  "kernelspec": {
   "display_name": "Python 3",
   "language": "python",
   "name": "python3"
  },
  "language_info": {
   "codemirror_mode": {
    "name": "ipython",
    "version": 3
   },
   "file_extension": ".py",
   "mimetype": "text/x-python",
   "name": "python",
   "nbconvert_exporter": "python",
   "pygments_lexer": "ipython3",
   "version": "3.7.4"
  }
 },
 "nbformat": 4,
 "nbformat_minor": 2
}
