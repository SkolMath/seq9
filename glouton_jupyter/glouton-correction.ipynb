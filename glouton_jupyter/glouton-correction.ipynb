{
 "cells": [
  {
   "cell_type": "markdown",
   "metadata": {},
   "source": [
    "# Force Brute et Algorithmes gloutons"
   ]
  },
  {
   "cell_type": "code",
   "execution_count": 11,
   "metadata": {},
   "outputs": [
    {
     "name": "stdout",
     "output_type": "stream",
     "text": [
      "('T', 'R', 'U')\n",
      "('T', 'R', 'C')\n",
      "('T', 'U', 'C')\n",
      "('R', 'U', 'C')\n"
     ]
    }
   ],
   "source": [
    "# pour obtenir toutes les combinaisons possibles\n",
    "# on utilisera la fonction combinations de la bilbliothèque itertools\n",
    "\n",
    "from itertools import combinations\n",
    "\n",
    "data = [ 'T' , 'R' , 'U' , 'C' ]\n",
    "\n",
    "for comb in combinations ( data , 3) :\n",
    "    print(comb) # retourne un tuple"
   ]
  },
  {
   "cell_type": "markdown",
   "metadata": {},
   "source": [
    "Un photographe de presse doit déposer des photos sur un serveur, l’espace qui lui accordé est très limité 15 Mo. Il estime\n",
    "le prix qu’il pourra vendre ses photos dans le tableau ci-dessous.\n",
    "\n",
    "<table>\n",
    "<tr><td>Type</td><td>photo chat</td><td>photo paysag</td><td>photo sport</td><td>photo manif</td><td>photo ville</td><td>photo astronomie</td></tr>\n",
    "<tr><td>Poids</td><td>4.5 Mo</td><td>7.5 Mo</td><td>2.5 Mo</td><td>6 Mo</td><td>8 Mo</td><td>12 Mo</td></tr>\n",
    "<tr><td>Prix</td><td>8 €</td><td>3 €</td><td>7 €</td><td>9 €</td><td>12 €</td><td>11 €</td></tr>\n",
    "</table>"
   ]
  },
  {
   "cell_type": "markdown",
   "metadata": {},
   "source": [
    "### Question : quelles photos doit-il déposer pour que cela lui rapporte le plus ?"
   ]
  },
  {
   "cell_type": "markdown",
   "metadata": {},
   "source": [
    "# Force brute"
   ]
  },
  {
   "cell_type": "markdown",
   "metadata": {},
   "source": [
    "<ul>\n",
    "<li>Trouver toutes les combinaisons de 1, 2, 3, 4, 5 et 6 photos grâce à la fonction combinations</li>\n",
    "<li>Calculer le poids de chaque combinaison.</li>\n",
    "<li>Garder uniquement celles qui ont un poids inférieur ou égale à 15.</li>\n",
    "<li>Retourner celle qui rapporte le plus (en tout cas au moins une)</li>\n",
    "</ul>"
   ]
  },
  {
   "cell_type": "code",
   "execution_count": 12,
   "metadata": {},
   "outputs": [],
   "source": [
    "# Jeu de données constitué à partir du tableau\n",
    "\n",
    "photos = [ \n",
    "    [4.5 , 8 , 'chat' ] ,\n",
    "    [7.5 , 3 , 'paysage' ] ,\n",
    "    [2.5 , 7 , 'sport' ] ,\n",
    "    [6 , 9 , 'manif' ] ,\n",
    "    [8 , 12 , 'ville' ] ,\n",
    "    [12 , 11 , 'astronomie']\n",
    "]"
   ]
  },
  {
   "cell_type": "markdown",
   "metadata": {},
   "source": [
    "### Exercice 1"
   ]
  },
  {
   "cell_type": "markdown",
   "metadata": {},
   "source": [
    "Écrire une fonction gain qui prend en argument une liste, du même type que la liste photos ci-dessus, et qui retourne\n",
    "le gain en euros du photographe pour cette liste.\n",
    "\n",
    "exemple = [[4.5, 8, ’chat’], [7.5 , 3, ’paysage’], [2.5, 7, ’sport’]]\n",
    "\n",
    "gain(exemple) = 18"
   ]
  },
  {
   "cell_type": "code",
   "execution_count": 13,
   "metadata": {},
   "outputs": [
    {
     "data": {
      "text/plain": [
       "18"
      ]
     },
     "execution_count": 13,
     "metadata": {},
     "output_type": "execute_result"
    }
   ],
   "source": [
    "# exemple avec comprehension\n",
    "\n",
    "def gain(liste):\n",
    "    valeur= sum([prix for _,prix,_ in liste]) # utilisation de la fonction sum et _ laisse de côté \n",
    "    return valeur\n",
    "\n",
    "exemple = [[4.5, 8, 'chat'], [7.5 , 3, 'paysage'], [2.5, 7, 'sport']]        \n",
    "gain(exemple)"
   ]
  },
  {
   "cell_type": "code",
   "execution_count": 14,
   "metadata": {},
   "outputs": [
    {
     "data": {
      "text/plain": [
       "18"
      ]
     },
     "execution_count": 14,
     "metadata": {},
     "output_type": "execute_result"
    }
   ],
   "source": [
    "# Réponse\n",
    "\n",
    "def gain(liste):\n",
    "    valeur=0\n",
    "    for elem in liste:\n",
    "        valeur+=elem[1]\n",
    "    return valeur\n",
    "\n",
    "exemple = [[4.5, 8, 'chat'], [7.5 , 3, 'paysage'], [2.5, 7, 'sport']]        \n",
    "gain(exemple)"
   ]
  },
  {
   "cell_type": "markdown",
   "metadata": {},
   "source": [
    "Même question pour une fonction poids qui prend une liste, du même type que la liste photos ci-dessus, et qui\n",
    "retourne le poids en Mo de ses élèments.\n",
    "\n",
    "poids(exemple)= 14.5"
   ]
  },
  {
   "cell_type": "code",
   "execution_count": 15,
   "metadata": {},
   "outputs": [
    {
     "data": {
      "text/plain": [
       "14.5"
      ]
     },
     "execution_count": 15,
     "metadata": {},
     "output_type": "execute_result"
    }
   ],
   "source": [
    "# Réponse\n",
    "\n",
    "def poids(liste):\n",
    "    megaoctet=0\n",
    "    for elem in liste:\n",
    "        megaoctet+=elem[0]\n",
    "    return megaoctet\n",
    "\n",
    "exemple = [[4.5, 8, 'chat'], [7.5 , 3, 'paysage'], [2.5, 7, 'sport']]        \n",
    "poids(exemple)"
   ]
  },
  {
   "cell_type": "markdown",
   "metadata": {},
   "source": [
    "Rédiger une fonction qui parmi toutes les combinaisons de photos possibles pesant moins de 15 Mo retourne celle qui rapportera le plus au photographe.\n",
    "\n",
    "Indication : utilisez la fonction combinations de la bibliothèque itertools"
   ]
  },
  {
   "cell_type": "code",
   "execution_count": 16,
   "metadata": {
    "scrolled": true
   },
   "outputs": [
    {
     "name": "stdout",
     "output_type": "stream",
     "text": [
      "(([4.5, 8, 'chat'], [2.5, 7, 'sport'], [8, 12, 'ville']), 27, 15.0)\n"
     ]
    }
   ],
   "source": [
    "#Réponse\n",
    "\n",
    "from itertools import combinations\n",
    "\n",
    "def combinaison_optimiser(liste):\n",
    "    \n",
    "    valeur_max=0 # initiatilisation de la valeur max\n",
    "    poids_max=0  # initialisation du poids max\n",
    "    comb_max=()  # initiatilisation de la combinaison max \n",
    "    \n",
    "    for nbre in range(1,len(liste)):\n",
    "        for comb in combinations ( liste , nbre) :\n",
    "            # toutes les combinaisons 1, 2, 3, 4, 5, 6\n",
    "            poids_comb=poids(comb)  # calcul du poids de la combinaison\n",
    "            valeur_comb=gain(comb) # calcul de la valeur de la combinaison\n",
    "            \n",
    "            if poids_comb <= 15 and valeur_max<valeur_comb:\n",
    "                valeur_max=valeur_comb # garde la valeur max\n",
    "                comb_max=comb          # garde la meilleure combinaison\n",
    "                poids_max=poids_comb\n",
    "                \n",
    "    return comb_max, valeur_max, poids_max\n",
    "   \n",
    "print(combinaison_optimiser(photos))"
   ]
  },
  {
   "cell_type": "markdown",
   "metadata": {},
   "source": [
    "La méthode force brute n’est pas un choix pérenne car cela oblige d’examiner toutes les combinaisons.\n",
    "\n",
    "Le nombre de combinaisons possibles dans des situations concrètes devient rapidement trop grand."
   ]
  },
  {
   "cell_type": "markdown",
   "metadata": {},
   "source": [
    "La méthode dite gloutonne consiste à faire à chaque étape un choix optimal localement en espérant qu’au final cela\n",
    "donne une solution globalement optimale ."
   ]
  },
  {
   "cell_type": "markdown",
   "metadata": {},
   "source": [
    "# Algorithme glouton -> valeur"
   ]
  },
  {
   "cell_type": "markdown",
   "metadata": {},
   "source": [
    "Appliquons la méthode glouton, à chaque étape on va tenter de choisir la photo qui rapporte le plus si c’est possible.\n",
    "\n",
    "<table>\n",
    "<tr><td>Type</td><td>photo chat</td><td>photo paysag</td><td>photo sport</td><td>photo manif</td><td>photo ville</td><td>photo astronomie</td></tr>\n",
    "<tr><td>Poids</td><td>4.5 Mo</td><td>7.5 Mo</td><td>2.5 Mo</td><td>6 Mo</td><td>8 Mo</td><td>12 Mo</td></tr>\n",
    "<tr><td>Prix</td><td>8 €</td><td>3 €</td><td>7 €</td><td>9 €</td><td>12 €</td><td>11 €</td></tr>\n",
    "</table>\n",
    "\n",
    "<ol><li>Choix glouton N°1 : la photo de ville raporte 12 € et pèse 8 Mo</li>\n",
    "<li>Choix glouton N°2 : la photo d'astronomie rapporte 11 € mais elle pèse 12 Mo c’est trop 8 + 12 > 15. \n",
    "    <br>On se rabat sur la photo de manifestation 9 € et pèse 6 Mo\n",
    "    <br>Au total 14 Mo</li>\n",
    "<li>Plus aucun choix car la capacité serait dépassée</li>\n",
    "</ol>Fin de l’algorithme on a choisi les photos de ville, de manifestation pour 12 + 9 = 21 € et 14 Mo."
   ]
  },
  {
   "cell_type": "markdown",
   "metadata": {},
   "source": [
    "### Exercice 2"
   ]
  },
  {
   "cell_type": "markdown",
   "metadata": {},
   "source": [
    "Ecrire un programme glouton permettant de déterminer une solution optimale au problème du photographe.\n",
    "On réutilisera les fonctions poids et gain de l’exercice 1 pour afficher les résultats de manière plus parlante"
   ]
  },
  {
   "cell_type": "code",
   "execution_count": 17,
   "metadata": {},
   "outputs": [
    {
     "name": "stdout",
     "output_type": "stream",
     "text": [
      "([[8, 12, 'ville'], [6, 9, 'manif']], 21, 14)\n"
     ]
    }
   ],
   "source": [
    "# Reponse\n",
    "\n",
    "def glouton_valeur(liste, poids_max):\n",
    "    \n",
    "    liste_optimisee = []\n",
    "    stockage_dispo=poids_max\n",
    "    \n",
    "    # tri décroissant de la liste en entrée par rapport à la valeur\n",
    "    liste = sorted(liste, key=lambda liste : liste[1], reverse = True)\n",
    "        \n",
    "    for elem in liste:\n",
    "        if (stockage_dispo - elem[0])>=0:\n",
    "            liste_optimisee.append(elem)\n",
    "            stockage_dispo-=elem[0]\n",
    "    \n",
    "    poids_liste=poids(liste_optimisee )  # calcul du poids de la combinaison\n",
    "    valeur_liste=gain(liste_optimisee ) # calcul de la valeur de la combinaison\n",
    "    \n",
    "    return liste_optimisee, valeur_liste, poids_liste    \n",
    "        \n",
    "        \n",
    "print(glouton_valeur(photos, 15))\n"
   ]
  },
  {
   "cell_type": "markdown",
   "metadata": {},
   "source": [
    "la méthode <b>glouton par rapport à la valeur</b> nous a donné une solution optimisée mais pas optimale"
   ]
  },
  {
   "cell_type": "markdown",
   "metadata": {},
   "source": [
    "# Algorithme glouton -> poids"
   ]
  },
  {
   "cell_type": "markdown",
   "metadata": {},
   "source": [
    "Appliquons la méthode glouton, à chaque étape on va tenter de choisir la photo qui prend le moins de poids.\n",
    "\n",
    "<table>\n",
    "<tr><td>Type</td><td>photo chat</td><td>photo paysag</td><td>photo sport</td><td>photo manif</td><td>photo ville</td><td>photo astronomie</td></tr>\n",
    "<tr><td>Poids</td><td>4.5 Mo</td><td>7.5 Mo</td><td>2.5 Mo</td><td>6 Mo</td><td>8 Mo</td><td>12 Mo</td></tr>\n",
    "<tr><td>Prix</td><td>8 €</td><td>3 €</td><td>7 €</td><td>9 €</td><td>12 €</td><td>11 €</td></tr>\n",
    "</table>\n"
   ]
  },
  {
   "cell_type": "markdown",
   "metadata": {},
   "source": [
    "<ol><li>Choix glouton N°1 : la photo de sport pèse 2.5 Mo et rapporte 7 €</li>\n",
    "<li>Choix glouton N°2 : la photo de chat pèse 4.5 Mo et rapporte 8 €. \n",
    "    <br>Au total 7 Mo et 15 €</li>\n",
    "<li>Choix glouton N°3 : la photo de manif pèse 6 Mo et rapporte 9 €. \n",
    "    <br>Au total 13 Mo et 24 €</li>\n",
    "<li>Plus aucun choix car la capacité serait dépassée</li>\n",
    "</ol>Fin de l’algorithme on a choisi les photos de sport, de chat, de manif pour 24 € et 13 Mo."
   ]
  },
  {
   "cell_type": "markdown",
   "metadata": {},
   "source": [
    "Ecrire un programme glouton permettant de déterminer une solution optimale au problème du photographe.\n",
    "On réutilisera les fonctions poids et gain de l’exercice 1 pour afficher les résultats de manière plus parlante"
   ]
  },
  {
   "cell_type": "code",
   "execution_count": 18,
   "metadata": {},
   "outputs": [
    {
     "name": "stdout",
     "output_type": "stream",
     "text": [
      "([[2.5, 7, 'sport'], [4.5, 8, 'chat'], [6, 9, 'manif']], 24, 13.0)\n"
     ]
    }
   ],
   "source": [
    "# Reponse\n",
    "\n",
    "def glouton_poids(liste, poids_max):\n",
    "    \n",
    "    liste_optimisee = []\n",
    "    stockage_dispo=poids_max\n",
    "    \n",
    "    # tri croissant de la liste en entrée par rapport au poids\n",
    "    liste = sorted(liste, key=lambda liste : liste[0], reverse = False)\n",
    "        \n",
    "    for elem in liste:\n",
    "        if (stockage_dispo - elem[0])>=0:\n",
    "            liste_optimisee.append(elem)\n",
    "            stockage_dispo-=elem[0]\n",
    "    \n",
    "    poids_liste=poids(liste_optimisee )  # calcul du poids de la combinaison\n",
    "    valeur_liste=gain(liste_optimisee ) # calcul de la valeur de la combinaison\n",
    "    \n",
    "    return liste_optimisee, valeur_liste, poids_liste    \n",
    "        \n",
    "        \n",
    "print(glouton_poids(photos, 15))\n"
   ]
  },
  {
   "cell_type": "markdown",
   "metadata": {},
   "source": [
    "la méthode <b>glouton par rapport au poids</b> nous a donné une solution plus optimisée mais pas optimale"
   ]
  },
  {
   "cell_type": "markdown",
   "metadata": {},
   "source": [
    "# Algorithme glouton -> rapport valeur / poids"
   ]
  },
  {
   "cell_type": "markdown",
   "metadata": {},
   "source": [
    "Appliquons la méthode glouton, à chaque étape on va tenter de choisir la photo qui rapporte le plus si c’est possible.\n",
    "<table>\n",
    "<tr><td>Type</td><td>photo chat</td><td>photo paysag</td><td>photo sport</td><td>photo manif</td><td>photo ville</td><td>photo astronomie</td></tr>\n",
    "<tr><td>Poids</td><td>4.5 Mo</td><td>7.5 Mo</td><td>2.5 Mo</td><td>6 M0</td><td>8 Mo</td><td>12 Mo</td></tr>\n",
    "<tr><td>Prix</td><td>8 €</td><td>3 €</td><td>7 €</td><td>9€</td><td>12 €</td><td>11 €</td></tr>\n",
    "<tr><td>Prix / Poids</td><td>1.78</td><td>0.4</td><td>2.8</td><td>1.67</td><td>1.5</td><td>0.92</td></tr>\n",
    "</table>"
   ]
  },
  {
   "cell_type": "code",
   "execution_count": 19,
   "metadata": {},
   "outputs": [],
   "source": [
    "# Jeu de données constitué précédemment à partir du tableau\n",
    "\n",
    "photos = [ \n",
    "    [4.5 , 8 , 'chat' ] ,\n",
    "    [7.5 , 3 , 'paysage' ] ,\n",
    "    [2.5 , 7 , 'sport' ] ,\n",
    "    [6 , 9 , 'manif' ] ,\n",
    "    [8 , 12 , 'ville' ] ,\n",
    "    [12 , 11 , 'astronomie']\n",
    "]"
   ]
  },
  {
   "cell_type": "markdown",
   "metadata": {},
   "source": [
    "### Exercice 3"
   ]
  },
  {
   "cell_type": "markdown",
   "metadata": {},
   "source": [
    "Ecrire une fonction qui ajoute à la liste le rapport prix / poids pour chaque photo"
   ]
  },
  {
   "cell_type": "code",
   "execution_count": 20,
   "metadata": {},
   "outputs": [
    {
     "name": "stdout",
     "output_type": "stream",
     "text": [
      "[[4.5, 8, 'chat', 1.78], [7.5, 3, 'paysage', 0.4], [2.5, 7, 'sport', 2.8], [6, 9, 'manif', 1.5], [8, 12, 'ville', 1.5], [12, 11, 'astronomie', 0.92]]\n"
     ]
    }
   ],
   "source": [
    "# Reponse\n",
    "\n",
    "def ajout_rapport_prix_poids(liste):\n",
    "    list\n",
    "    for elem in liste:\n",
    "        rapport=round(elem[1]/elem[0],2)\n",
    "        elem.append(rapport)\n",
    "    return liste\n",
    "\n",
    "print(ajout_rapport_prix_poids(photos))"
   ]
  },
  {
   "cell_type": "markdown",
   "metadata": {},
   "source": [
    "Ecrire une fonction glouton_valeur_poids(liste, poids_max) permettant de déterminer une solution optimale au problème du photographe à partir du rapport prix / poids"
   ]
  },
  {
   "cell_type": "code",
   "execution_count": 21,
   "metadata": {},
   "outputs": [
    {
     "name": "stdout",
     "output_type": "stream",
     "text": [
      "([[2.5, 7, 'sport', 2.8], [4.5, 8, 'chat', 1.78], [6, 9, 'manif', 1.5]], 24, 13.0)\n"
     ]
    }
   ],
   "source": [
    "# Reponse\n",
    "\n",
    "def glouton_valeur_poids(liste, poids_max):\n",
    "    \n",
    "    liste_optimisee = []\n",
    "    stockage_dispo=poids_max\n",
    "    \n",
    "    # tri décroissant de la liste en entrée par rapport à la valeur/poids\n",
    "    liste = sorted(liste, key=lambda liste : liste[3], reverse = True)\n",
    "        \n",
    "    for elem in liste:\n",
    "        if (stockage_dispo - elem[0])>=0:\n",
    "            liste_optimisee.append(elem)\n",
    "            stockage_dispo-=elem[0]\n",
    "    \n",
    "    poids_liste=poids(liste_optimisee )  # calcul du poids de la combinaison\n",
    "    valeur_liste=gain(liste_optimisee ) # calcul de la valeur de la combinaison\n",
    "    \n",
    "    return liste_optimisee, valeur_liste, poids_liste    \n",
    "        \n",
    "        \n",
    "print(glouton_valeur_poids(photos, 15))"
   ]
  },
  {
   "cell_type": "markdown",
   "metadata": {},
   "source": [
    "Cette méthode <b>glouton avec rapport(valeur/poids)</b> nous donne aussi une solution plus optimisée"
   ]
  },
  {
   "cell_type": "markdown",
   "metadata": {},
   "source": [
    "# Conclusion\n",
    "\n",
    "Ce problème peut donc se résoudre par force brute, c’est-à-dire en testant tous les cas possibles. Mais ce type de résolution présente un problème d’efficacité. <b>Son coût en fonction du nombre d’objets disponibles croît de manière exponentielle.</b>\n",
    "\n",
    "<b>Nous pouvons envisager une stratégie gloutonne.</b>\n",
    "\n",
    "Le principe d’un algorithme glouton est de faire le meilleur choix pour prendre le premier objet, puis le meilleur choix pour prendre le deuxième, et ainsi de suite. \n",
    "\n",
    "Mais que faut-il entendre par meilleur choix ? Est-ce prendre l’objet qui a la plus grande valeur, l’objet qui a le plus petit poids, l’objet qui a le rapport valeur/poids le plus grand ? Cela reste à définir.\n"
   ]
  },
  {
   "cell_type": "code",
   "execution_count": null,
   "metadata": {},
   "outputs": [],
   "source": []
  }
 ],
 "metadata": {
  "kernelspec": {
   "display_name": "Python 3",
   "language": "python",
   "name": "python3"
  },
  "language_info": {
   "codemirror_mode": {
    "name": "ipython",
    "version": 3
   },
   "file_extension": ".py",
   "mimetype": "text/x-python",
   "name": "python",
   "nbconvert_exporter": "python",
   "pygments_lexer": "ipython3",
   "version": "3.7.4"
  }
 },
 "nbformat": 4,
 "nbformat_minor": 2
}
