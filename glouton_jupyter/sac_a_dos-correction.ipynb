{
 "cells": [
  {
   "cell_type": "markdown",
   "metadata": {},
   "source": [
    "# Sac à dos"
   ]
  },
  {
   "cell_type": "markdown",
   "metadata": {},
   "source": [
    "### Le problème à résoudre"
   ]
  },
  {
   "cell_type": "markdown",
   "metadata": {},
   "source": [
    "Nous disposons d’une clé USB qui est déjà bien remplie et sur laquelle il ne reste que 5 Go de libre. Nous souhaitons copier sur cette clé des fichiers vidéos pour l’emporter en voyage. Chaque fichier a un poids et chaque vidéo a une durée. La durée n’est pas proportionnelle au poids car les fichiers sont de format différents, certaines vidéos sont de grande qualité, d’autres sont très compressées.\n",
    "\n",
    "Le tableau qui suit présente les fichiers disponibles avec les durées données en minutes "
   ]
  },
  {
   "cell_type": "markdown",
   "metadata": {},
   "source": [
    "<table>\n",
    "<tr><td>Fichier</td><td>video 1</td><td>video 2</td><td>video 3</td><td>video 4</td><td>video 5</td><td>video 6</td><td>video 7</td></tr>\n",
    "<tr><td>Durée</td><td>114</td><td>32</td><td>20</td><td>4</td><td>18</td><td>80</td><td>5</td></tr>\n",
    "<tr><td>Poids</td><td>4.57 Go</td><td>630 Mo</td><td>1.65 Go</td><td>85 Mo</td><td>2.15 Go</td><td>2.71 Go</td><td>320 Mo</td></tr>\n",
    "</table>"
   ]
  },
  {
   "cell_type": "markdown",
   "metadata": {},
   "source": [
    "## Question : quel sera le choix le plus optimal ?\n",
    "\n",
    "<ol><li>force brute</li>\n",
    "    <li>algorithme glouton\n",
    "        <ul>\n",
    "            <li>par durée</li>\n",
    "            <li>par poids</li>\n",
    "            <li>par durée/poids</li>\n",
    "        </ul>\n",
    "    </li>\n",
    "</ol>\n"
   ]
  },
  {
   "cell_type": "code",
   "execution_count": 26,
   "metadata": {},
   "outputs": [],
   "source": [
    "# Jeu de données constitué à partir du tableau\n",
    "\n",
    "videos = [['Video 1', 114, 4.57], ['Video 2', 32, 0.630],\n",
    "['Video 3', 20, 1.65], ['Video 4', 4, 0.085],\n",
    "['Video 5', 18, 2.15], ['Video 6', 80, 2.71],\n",
    "['Video 7', 5, 0.320]]"
   ]
  },
  {
   "cell_type": "code",
   "execution_count": 27,
   "metadata": {},
   "outputs": [
    {
     "data": {
      "text/plain": [
       "226"
      ]
     },
     "execution_count": 27,
     "metadata": {},
     "output_type": "execute_result"
    }
   ],
   "source": [
    "def gain_duree(liste):\n",
    "    valeur=0\n",
    "    for elem in liste:\n",
    "        valeur+=elem[1]\n",
    "    return valeur\n",
    "\n",
    "exemple = [['Video 1', 114, 4.57], ['Video 2', 32, 0.630],['Video 6', 80, 2.71] ]        \n",
    "gain_duree(exemple)"
   ]
  },
  {
   "cell_type": "code",
   "execution_count": 28,
   "metadata": {},
   "outputs": [
    {
     "data": {
      "text/plain": [
       "7.91"
      ]
     },
     "execution_count": 28,
     "metadata": {},
     "output_type": "execute_result"
    }
   ],
   "source": [
    "def poids(liste):\n",
    "    gigaoctet=0\n",
    "    for elem in liste:\n",
    "        gigaoctet+=elem[2]\n",
    "    return gigaoctet\n",
    "\n",
    "exemple = [['Video 1', 114, 4.57], ['Video 2', 32, 0.630],['Video 6', 80, 2.71] ]        \n",
    "poids(exemple)"
   ]
  },
  {
   "cell_type": "markdown",
   "metadata": {},
   "source": [
    "# Force brute"
   ]
  },
  {
   "cell_type": "code",
   "execution_count": 29,
   "metadata": {
    "scrolled": true
   },
   "outputs": [
    {
     "name": "stdout",
     "output_type": "stream",
     "text": [
      "((['Video 2', 32, 0.63], ['Video 3', 20, 1.65], ['Video 6', 80, 2.71]), 132, 4.99)\n"
     ]
    }
   ],
   "source": [
    "#Réponse\n",
    "\n",
    "from itertools import combinations\n",
    "\n",
    "def combinaison_optimiser(liste):\n",
    "    \n",
    "    duree_max=0 # initiatilisation de la valeur max\n",
    "    poids_max=0  # initialisation du poids max\n",
    "    comb_max=()  # initiatilisation de la combinaison max \n",
    "    \n",
    "    for nbre in range(1,len(liste)):\n",
    "        for comb in combinations ( liste , nbre) :\n",
    "            # toutes les combinaisons 1, 2, 3, 4, 5, 6\n",
    "            poids_comb=poids(comb)  # calcul du poids de la combinaison\n",
    "            duree_comb=gain_duree(comb) # calcul de la valeur de la combinaison\n",
    "            \n",
    "            if poids_comb <= 5 and duree_max<duree_comb:\n",
    "                duree_max=duree_comb # garde la valeur max\n",
    "                comb_max=comb          # garde la meilleure combinaison\n",
    "                poids_max=poids_comb\n",
    "                \n",
    "    return comb_max, duree_max, poids_max\n",
    "   \n",
    "print(combinaison_optimiser(videos))"
   ]
  },
  {
   "cell_type": "markdown",
   "metadata": {},
   "source": [
    "# Algorithme glouton -> duree(valeur)\n",
    "\n",
    "le plus de musique par rapport à la durée"
   ]
  },
  {
   "cell_type": "code",
   "execution_count": 30,
   "metadata": {},
   "outputs": [
    {
     "name": "stdout",
     "output_type": "stream",
     "text": [
      "([['Video 1', 114, 4.57], ['Video 7', 5, 0.32], ['Video 4', 4, 0.085]], 123, 4.9750000000000005)\n"
     ]
    }
   ],
   "source": [
    "def glouton(liste, poids_max):\n",
    "    \n",
    "    liste_optimisee = []\n",
    "    stockage_dispo=poids_max\n",
    "    \n",
    "    # tri décroissant de la liste en entrée par rapport à la valeur\n",
    "    liste = sorted(liste, key=lambda liste : liste[1], reverse = True)\n",
    "        \n",
    "    for elem in liste:\n",
    "        if (stockage_dispo - elem[2])>=0:\n",
    "            liste_optimisee.append(elem)\n",
    "            stockage_dispo-=elem[2]\n",
    "    \n",
    "    poids_liste=poids(liste_optimisee )  # calcul du poids de la combinaison\n",
    "    duree_liste=gain_duree(liste_optimisee ) # calcul de la valeur de la combinaison\n",
    "    \n",
    "    return liste_optimisee, duree_liste, poids_liste    \n",
    "        \n",
    "        \n",
    "print(glouton(videos, 5))\n"
   ]
  },
  {
   "cell_type": "markdown",
   "metadata": {},
   "source": [
    "# Algorithme glouton -> poids\n",
    "\n",
    "le plus de musique par rapport au poids"
   ]
  },
  {
   "cell_type": "code",
   "execution_count": 34,
   "metadata": {},
   "outputs": [
    {
     "name": "stdout",
     "output_type": "stream",
     "text": [
      "([['Video 4', 4, 0.085], ['Video 7', 5, 0.32], ['Video 2', 32, 0.63], ['Video 3', 20, 1.65], ['Video 5', 18, 2.15]], 79, 4.835)\n"
     ]
    }
   ],
   "source": [
    "def glouton(liste, poids_max):\n",
    "    \n",
    "    liste_optimisee = []\n",
    "    stockage_dispo=poids_max\n",
    "    \n",
    "    # tri croissant de la liste en entrée par rapport au poids\n",
    "    liste = sorted(liste, key=lambda liste : liste[2], reverse = False)\n",
    "    for elem in liste:\n",
    "        if (stockage_dispo - elem[2])>=0:\n",
    "            liste_optimisee.append(elem)\n",
    "            stockage_dispo-=elem[2]\n",
    "    \n",
    "    poids_liste=poids(liste_optimisee )  # calcul du poids de la combinaison\n",
    "    duree_liste=gain_duree(liste_optimisee ) # calcul de la valeur de la combinaison\n",
    "    \n",
    "    return liste_optimisee, duree_liste, poids_liste    \n",
    "        \n",
    "        \n",
    "print(glouton(videos, 5))\n"
   ]
  },
  {
   "cell_type": "markdown",
   "metadata": {},
   "source": [
    "# Algorithme glouton -> rapport duree / poids"
   ]
  },
  {
   "cell_type": "code",
   "execution_count": 19,
   "metadata": {},
   "outputs": [
    {
     "name": "stdout",
     "output_type": "stream",
     "text": [
      "[['Video 1', 114, 4.57, 24.95], ['Video 2', 32, 0.63, 50.79], ['Video 3', 20, 1.65, 12.12], ['Video 4', 4, 0.085, 47.06], ['Video 5', 18, 2.15, 8.37], ['Video 6', 80, 2.71, 29.52], ['Video 7', 5, 0.32, 15.62]]\n"
     ]
    }
   ],
   "source": [
    "def ajout_rapport_duree_poids(liste):\n",
    "    list\n",
    "    for elem in liste:\n",
    "        rapport=round(elem[1]/elem[2],2)\n",
    "        elem.append(rapport)\n",
    "    return liste\n",
    "\n",
    "print(ajout_rapport_duree_poids(videos))"
   ]
  },
  {
   "cell_type": "code",
   "execution_count": 23,
   "metadata": {},
   "outputs": [
    {
     "name": "stdout",
     "output_type": "stream",
     "text": [
      "([['Video 2', 32, 0.63, 50.79], ['Video 4', 4, 0.085, 47.06], ['Video 6', 80, 2.71, 29.52], ['Video 7', 5, 0.32, 15.62]], 121, 3.7449999999999997)\n"
     ]
    }
   ],
   "source": [
    "def glouton_duree_poids(liste, poids_max):\n",
    "    \n",
    "    liste_optimisee = []\n",
    "    stockage_dispo=poids_max\n",
    "    \n",
    "    # tri décroissant de la liste en entrée par rapport à la valeur/poids\n",
    "    liste = sorted(liste, key=lambda liste : liste[3], reverse = True)\n",
    "        \n",
    "    for elem in liste:\n",
    "        if (stockage_dispo - elem[2])>=0:\n",
    "            liste_optimisee.append(elem)\n",
    "            stockage_dispo-=elem[2]\n",
    "    \n",
    "    poids_liste=poids(liste_optimisee )  # calcul du poids de la combinaison\n",
    "    duree_liste=gain_duree(liste_optimisee ) # calcul de la valeur de la combinaison\n",
    "    \n",
    "    return liste_optimisee, duree_liste, poids_liste    \n",
    "        \n",
    "        \n",
    "print(glouton_duree_poids(videos, 5))"
   ]
  },
  {
   "cell_type": "markdown",
   "metadata": {},
   "source": [
    "# Conclusion\n",
    "\n",
    "force brute : (['Video 2', 32, 0.63], ['Video 3', 20, 1.65], ['Video 6', 80, 2.71]), 132, 4.99"
   ]
  },
  {
   "cell_type": "markdown",
   "metadata": {},
   "source": [
    "glouton durée : [['Video 1', 114, 4.57], ['Video 7', 5, 0.32], ['Video 4', 4, 0.085]], 123, 4.9750000000000005"
   ]
  },
  {
   "cell_type": "markdown",
   "metadata": {},
   "source": [
    "glouton poids : [['Video 4', 4, 0.085], ['Video 7', 5, 0.32], ['Video 2', 32, 0.63], ['Video 3', 20, 1.65], ['Video 5', 18, 2.15]], 79, 4.835"
   ]
  },
  {
   "cell_type": "markdown",
   "metadata": {},
   "source": [
    "glouton rapport : [['Video 2', 32, 0.63, 50.79], ['Video 4', 4, 0.085, 47.06], ['Video 6', 80, 2.71, 29.52], ['Video 7', 5, 0.32, 15.62]], 121, 3.7449999999999997"
   ]
  },
  {
   "cell_type": "markdown",
   "metadata": {},
   "source": [
    "Nous constatons que le critère de durée est le plus intéressant, puisque la valeur totale est 123. Cette solution n’est cependant pas la solution optimale trouvée par force brute ['Video 2', 'Video 3', 'Video 6'] 132"
   ]
  },
  {
   "cell_type": "code",
   "execution_count": null,
   "metadata": {},
   "outputs": [],
   "source": []
  }
 ],
 "metadata": {
  "kernelspec": {
   "display_name": "Python 3",
   "language": "python",
   "name": "python3"
  },
  "language_info": {
   "codemirror_mode": {
    "name": "ipython",
    "version": 3
   },
   "file_extension": ".py",
   "mimetype": "text/x-python",
   "name": "python",
   "nbconvert_exporter": "python",
   "pygments_lexer": "ipython3",
   "version": "3.7.4"
  }
 },
 "nbformat": 4,
 "nbformat_minor": 2
}
