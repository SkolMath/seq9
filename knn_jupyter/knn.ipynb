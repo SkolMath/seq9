{
 "cells": [
  {
   "cell_type": "markdown",
   "metadata": {},
   "source": [
    "## Algorithme des K plus proches voisins\n",
    "\n",
    "L’algorithme KNN (K Nearest Neighbors en anglais) est un algorithme essentiel en apprentissage automatique ou\n",
    "«Machine Learning »."
   ]
  },
  {
   "cell_type": "markdown",
   "metadata": {},
   "source": [
    "### fonction qui retourne la distance euclidienne entre 2 points"
   ]
  },
  {
   "cell_type": "code",
   "execution_count": null,
   "metadata": {},
   "outputs": [],
   "source": [
    "import math # besoin de la racine carré\n",
    "\n",
    "def distance_euclidienne ( point1 , point2 ) :\n",
    "    distance_carre = 0\n",
    "    for i in range (len(point1)):\n",
    "        distance_carre += (float(point1[i]) - float(point2[i])) ** 2\n",
    "        \n",
    "    return math.sqrt(distance_carre)\n"
   ]
  },
  {
   "cell_type": "code",
   "execution_count": null,
   "metadata": {},
   "outputs": [],
   "source": [
    "point_A = [1, 2.5, 3]\n",
    "point_B = [0,-2, 6.3]\n",
    "\n",
    "print(distance_euclidienne ( point_A , point_B ))"
   ]
  },
  {
   "cell_type": "markdown",
   "metadata": {},
   "source": [
    "## tableau de statistiques :\n",
    "\n",
    "Dans le jeu de test ci-dessous, la première colonne taille en inches \n",
    "et la seconde colonne poids en pounds.\n"
   ]
  },
  {
   "cell_type": "code",
   "execution_count": null,
   "metadata": {},
   "outputs": [],
   "source": [
    "#Jeu de test\n",
    "\n",
    "Data = [\n",
    "    [65.75, 112.99],\n",
    "    [71.52, 136.49],\n",
    "    [69.40, 153.03],\n",
    "    [68.22, 142.34],\n",
    "    [67.79, 144.30],\n",
    "    [68.70, 123.30],\n",
    "    [69.80 , 141.49],\n",
    "    [70.01 , 136.46],\n",
    "    [67.90 , 112.37],\n",
    "    [66.49 , 127.45]]"
   ]
  },
  {
   "cell_type": "markdown",
   "metadata": {},
   "source": [
    "### fonction knn qui retourne la liste des k points les plus proches"
   ]
  },
  {
   "cell_type": "code",
   "execution_count": null,
   "metadata": {},
   "outputs": [],
   "source": [
    "def knn(donnees, point, k):\n",
    "    liste_point=[]\n",
    "    for indice, valeurs in enumerate(donnees):\n",
    "        # besoin de connaitre indice et des valeurs de la table donnees\n",
    "        distance = distance_euclidienne ( valeurs , point )\n",
    "        liste_point.append([distance, indice]) # ajout dans la table distance et l'indice\n",
    "    \n",
    "    #tri par défaut sur le 1er élément ici la distance d'où l'importance de le mettre en premier   \n",
    "    liste_point=sorted(liste_point)[:k]\n",
    "    \n",
    "    liste_indice_voisin = [i[1] for i in liste_point]\n",
    "    \n",
    "    point_voisin = [(i,donnees[i]) for i in liste_indice_voisin]\n",
    "    return point_voisin\n",
    "\n",
    "# essai avec le point = [70, 140 ] pour 3 points proches    \n",
    "point = [70,140]\n",
    "knn(Data, point,3)                    \n",
    "  "
   ]
  },
  {
   "cell_type": "markdown",
   "metadata": {},
   "source": [
    "## Mini-Projet\n",
    "\n",
    "Les élèves de seconde se demandent quels enseignements de spécialités ils devraient choisir. On dispose des\n",
    "moyennes de seconde de 70 élèves de premières générales ainsi que leurs spécialités de première spe_premiere.csv.\n",
    "Écrire un programme qui permet à un élève de seconde de saisir ses moyennes de secondes et lui proposera les choix\n",
    "les plus fréquemment pris par ses k = 7 plus proches voisins."
   ]
  },
  {
   "cell_type": "markdown",
   "metadata": {},
   "source": [
    "A faire :\n",
    "\n",
    "<ol>\n",
    "<li>ouvrir le fichier spe_premiere.csv</li>\n",
    "<li>constituer la liste des moyennes de seconde de chaque élève de première et la liste des spécialités de chaque élève de première</li></ol>"
   ]
  },
  {
   "cell_type": "code",
   "execution_count": null,
   "metadata": {},
   "outputs": [],
   "source": [
    "\n"
   ]
  },
  {
   "cell_type": "code",
   "execution_count": null,
   "metadata": {},
   "outputs": [],
   "source": [
    "# l'élève de seconde a comme moyenne en suivant les libellés du fichier csv\n",
    "ma_moyenne = [17.8,11,13.59,12.75,18.27,16.2,10.3,17,7.6]\n",
    "# voir les choix de 7 élèves de première proches des moyennes de l'élève de seconde\n",
    "k_voisin=7"
   ]
  },
  {
   "cell_type": "markdown",
   "metadata": {},
   "source": [
    "A faire : trouver la liste des 7 élèves proches de l'élève de seconde"
   ]
  },
  {
   "cell_type": "code",
   "execution_count": null,
   "metadata": {},
   "outputs": [],
   "source": []
  },
  {
   "cell_type": "markdown",
   "metadata": {},
   "source": [
    "on obtient l'indice de 7 élèves puis leurs moyennes.\n",
    "On va pouvoir alors connaitre les spécialités qu'ils ont choisies"
   ]
  },
  {
   "cell_type": "markdown",
   "metadata": {},
   "source": [
    "A faire : construire un dictionnaire des spécilités choisies et du nombre de fois qu'elles ont été choisies"
   ]
  },
  {
   "cell_type": "code",
   "execution_count": null,
   "metadata": {},
   "outputs": [],
   "source": [
    "# Réponse\n"
   ]
  },
  {
   "cell_type": "markdown",
   "metadata": {},
   "source": [
    "A faire : construire un dictionnaire des spécilités choisies et du nombre de fois qu'elles ont été choisies"
   ]
  },
  {
   "cell_type": "code",
   "execution_count": null,
   "metadata": {},
   "outputs": [],
   "source": [
    "# dictionnaire des spécialités et le pourcentage de choix\n"
   ]
  },
  {
   "cell_type": "code",
   "execution_count": null,
   "metadata": {},
   "outputs": [],
   "source": []
  }
 ],
 "metadata": {
  "kernelspec": {
   "display_name": "Python 3",
   "language": "python",
   "name": "python3"
  },
  "language_info": {
   "codemirror_mode": {
    "name": "ipython",
    "version": 3
   },
   "file_extension": ".py",
   "mimetype": "text/x-python",
   "name": "python",
   "nbconvert_exporter": "python",
   "pygments_lexer": "ipython3",
   "version": "3.7.4"
  }
 },
 "nbformat": 4,
 "nbformat_minor": 2
}
