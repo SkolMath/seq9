{
 "cells": [
  {
   "cell_type": "markdown",
   "metadata": {},
   "source": [
    "## Algorithme des K plus proches voisins\n",
    "\n",
    "L’algorithme KNN (K Nearest Neighbors en anglais) est un algorithme essentiel en apprentissage automatique ou\n",
    "«Machine Learning »."
   ]
  },
  {
   "cell_type": "markdown",
   "metadata": {},
   "source": [
    "### fonction qui retourne la distance euclidienne entre 2 points"
   ]
  },
  {
   "cell_type": "code",
   "execution_count": 33,
   "metadata": {},
   "outputs": [],
   "source": [
    "import math # besoin de la racine carré\n",
    "\n",
    "def distance_euclidienne ( point1 , point2 ) :\n",
    "    distance_carre = 0\n",
    "    for i in range (len(point1)):\n",
    "        distance_carre += (float(point1[i]) - float(point2[i])) ** 2\n",
    "        \n",
    "    return math.sqrt(distance_carre)\n"
   ]
  },
  {
   "cell_type": "code",
   "execution_count": 34,
   "metadata": {},
   "outputs": [
    {
     "name": "stdout",
     "output_type": "stream",
     "text": [
      "5.669215113223347\n"
     ]
    }
   ],
   "source": [
    "point_A = [1, 2.5, 3]\n",
    "point_B = [0,-2, 6.3]\n",
    "\n",
    "print(distance_euclidienne ( point_A , point_B ))"
   ]
  },
  {
   "cell_type": "markdown",
   "metadata": {},
   "source": [
    "## tableau de statistiques :\n",
    "\n",
    "Dans le jeu de test ci-dessous, la première colonne taille en inches \n",
    "et la seconde colonne poids en pounds.\n"
   ]
  },
  {
   "cell_type": "code",
   "execution_count": 35,
   "metadata": {},
   "outputs": [],
   "source": [
    "#Jeu de test\n",
    "\n",
    "Data = [\n",
    "    [65.75, 112.99],\n",
    "    [71.52, 136.49],\n",
    "    [69.40, 153.03],\n",
    "    [68.22, 142.34],\n",
    "    [67.79, 144.30],\n",
    "    [68.70, 123.30],\n",
    "    [69.80 , 141.49],\n",
    "    [70.01 , 136.46],\n",
    "    [67.90 , 112.37],\n",
    "    [66.49 , 127.45]]"
   ]
  },
  {
   "cell_type": "markdown",
   "metadata": {},
   "source": [
    "### fonction knn qui retourne la liste des k points les plus proches"
   ]
  },
  {
   "cell_type": "code",
   "execution_count": 36,
   "metadata": {},
   "outputs": [
    {
     "data": {
      "text/plain": [
       "[(6, [69.8, 141.49]), (3, [68.22, 142.34]), (7, [70.01, 136.46])]"
      ]
     },
     "execution_count": 36,
     "metadata": {},
     "output_type": "execute_result"
    }
   ],
   "source": [
    "def knn(donnees, point, k):\n",
    "    liste_point=[]\n",
    "    for indice, valeurs in enumerate(donnees):\n",
    "        # besoin de connaitre indice et des valeurs de la table donnees\n",
    "        distance = distance_euclidienne ( valeurs , point )\n",
    "        liste_point.append([distance, indice]) # ajout dans la table distance et l'indice\n",
    "    \n",
    "    #tri par défaut sur le 1er élément ici la distance d'où l'importance de le mettre en premier   \n",
    "    liste_point=sorted(liste_point)[:k]\n",
    "    \n",
    "    liste_indice_voisin = [i[1] for i in liste_point]\n",
    "    \n",
    "    point_voisin = [(i,donnees[i]) for i in liste_indice_voisin]\n",
    "    return point_voisin\n",
    "\n",
    "# essai avec le point = [70, 140 ] pour 3 points proches    \n",
    "point = [70,140]\n",
    "knn(Data, point,3)                    \n",
    "  "
   ]
  },
  {
   "cell_type": "markdown",
   "metadata": {},
   "source": [
    "## Mini-Projet\n",
    "\n",
    "Les élèves de seconde se demandent quels enseignements de spécialités ils devraient choisir. On dispose des\n",
    "moyennes de seconde de 70 élèves de premières générales ainsi que leurs spécialités de première spe_premiere.csv.\n",
    "Écrire un programme qui permet à un élève de seconde de saisir ses moyennes de secondes et lui proposera les choix\n",
    "les plus fréquemment pris par ses k = 7 plus proches voisins."
   ]
  },
  {
   "cell_type": "markdown",
   "metadata": {},
   "source": [
    "A faire :\n",
    "\n",
    "<ol>\n",
    "<li>ouvrir le fichier spe_premiere.csv</li>\n",
    "<li>constituer la liste des moyennes de seconde de chaque élève de première et la liste des spécialités de chaque élève de première</li></ol>"
   ]
  },
  {
   "cell_type": "code",
   "execution_count": 37,
   "metadata": {},
   "outputs": [
    {
     "name": "stdout",
     "output_type": "stream",
     "text": [
      "nombre d'élèves : 100\n",
      "[['13.93', '13.33', '10.83', '9.57', '12.06', '5.34', '10', '10', '11.84'], ['16.04', '11.83', '9.62', '11.61', '14.75', '7.06', '10.07', '20', '10.17'], ['14.42', '15.83', '13.33', '12.17', '18', '16.23', '16.12', '15.67', '14.27'], ['12.41', '13.44', '10.92', '10.77', '15.64', '9.74', '10.3', '12.45', '12.53'], ['15.15', '13.33', '15.28', '11.83', '18.17', '10.43', '12', '13.39', '12.67'], ['13.78', '15.11', '11.13', '10.37', '14.64', '10', '8.84', '13', '14.44'], ['16.51', '13', '12.47', '12', '15.1', '16.11', '14.69', '10', '13.8'], ['16.32', '16.67', '15.32', '15.17', '16.67', '16.36', '16.34', '15.78', '15.63'], ['13.09', '17', '13.11', '11.38', '14.35', '11.9', '16.68', '10.67', '14.22'], ['14.09', '13', '11.34', '11.77', '15.28', '9.95', '9.26', '20', '10.62']]\n",
      "[['SES', 'SVT', 'LLCE'], ['SES', 'LLCE', 'HGGSP'], ['MATH', 'SPC', 'SVT'], ['SES', 'LLCE', 'HLP'], ['SES', 'HGGSP', 'LLCE'], ['SES', 'MATH', 'LLCE'], ['MATH', 'SPC', 'SVT'], ['SES', 'MATH', 'HGGSP'], ['SVT', 'SPC', 'MATH'], ['SES', 'LLCE', 'HLP']]\n"
     ]
    }
   ],
   "source": [
    "import csv\n",
    "\n",
    "table_moyenne=[] # liste des moyennes de seconde de chaque élève de première\n",
    "table_spec_choisie=[] # liste des spécialités de chaque élève de première\n",
    "\n",
    "# ouverture du fichier pour constituer les tables nécessaires\n",
    "with open('spe_premiere.csv') as csvfile:\n",
    "    reader=csv.reader(csvfile)\n",
    "    next(reader) # enlève la 1ère ligne du fichier qui correspond aux libellés\n",
    "    for row in reader:\n",
    "        table_moyenne.append(row[1:10]) # prend les moyennes de l'indice 1 à 9\n",
    "        table_spec_choisie.append(row[10:13]) # prend les spécialités choisies de l'indice 10 à 12\n",
    "\n",
    "print(\"nombre d'élèves : \"+str(len(table_moyenne)))\n",
    "print(table_moyenne[:10]) # affichage des 10 premiers\n",
    "\n",
    "print(table_spec_choisie[:10]) # affichage des 10 premiers\n"
   ]
  },
  {
   "cell_type": "code",
   "execution_count": 38,
   "metadata": {},
   "outputs": [],
   "source": [
    "# l'élève de seconde a comme moyenne en suivant les libellés du fichier csv\n",
    "ma_moyenne = [17.8,11,13.59,12.75,18.27,16.2,10.3,17,7.6]\n",
    "# voir les choix de 7 élèves de première proches des moyennes de l'élève de seconde\n",
    "k_voisin=7\n",
    "\n"
   ]
  },
  {
   "cell_type": "markdown",
   "metadata": {},
   "source": [
    "A faire : trouver la liste des 7 élèves proches de l'élève de seconde"
   ]
  },
  {
   "cell_type": "code",
   "execution_count": 39,
   "metadata": {},
   "outputs": [
    {
     "name": "stdout",
     "output_type": "stream",
     "text": [
      "[(99, ['15.84', '13.67', '14.09', '13.67', '16.33', '14.15', '13.07', '14.84', '13.05']), (92, ['15.18', '11.21', '10.52', '10.46', '17.16', '12.11', '14.1', '20', '10.85']), (55, ['15.92', '14.11', '12.47', '12.10', '16.79', '10.25', '10.39', '20.00', '11.73']), (88, ['14.89', '12.81', '12.24', '12.15', '14.29', '12.14', '13.79', '20', '11.58']), (50, ['14.63', '12.70', '14.07', '11.53', '18.81', '13.14', '16.17', '12.67', '10.58']), (9, ['14.09', '13', '11.34', '11.77', '15.28', '9.95', '9.26', '20', '10.62']), (4, ['15.15', '13.33', '15.28', '11.83', '18.17', '10.43', '12', '13.39', '12.67'])]\n"
     ]
    }
   ],
   "source": [
    "liste_eleve=knn(table_moyenne, ma_moyenne,k_voisin) \n",
    "print(liste_eleve)"
   ]
  },
  {
   "cell_type": "markdown",
   "metadata": {},
   "source": [
    "on obtient l'indice de 7 élèves puis leurs moyennes.\n",
    "On va pouvoir alors connaitre les spécialités qu'ils ont choisies"
   ]
  },
  {
   "cell_type": "markdown",
   "metadata": {},
   "source": [
    "A faire : construire un dictionnaire des spécilités choisies et du nombre de fois qu'elles ont été choisies"
   ]
  },
  {
   "cell_type": "code",
   "execution_count": 40,
   "metadata": {},
   "outputs": [
    {
     "name": "stdout",
     "output_type": "stream",
     "text": [
      "{'MATH': 3, 'LLCE': 6, 'HGGSP': 2, 'SPC': 2, 'SES': 3, 'HLP': 3, 'SVT': 1, 'LCA': 1}\n"
     ]
    }
   ],
   "source": [
    "# Réponse\n",
    "spec_choisi = {} \n",
    "for i in range(len(liste_eleve)):\n",
    "    indice=liste_eleve[i][0]\n",
    "    row=table_spec_choisie[indice]\n",
    "    for elem in row:\n",
    "        if elem in spec_choisi.keys():\n",
    "            spec_choisi[elem]+=1\n",
    "        else:\n",
    "            spec_choisi[elem]=1\n",
    "\n",
    "print(spec_choisi)"
   ]
  },
  {
   "cell_type": "markdown",
   "metadata": {},
   "source": [
    "A faire : remplacer, dans le dictionnaire, le nombre de fois par le pourcentage de choix"
   ]
  },
  {
   "cell_type": "code",
   "execution_count": 41,
   "metadata": {},
   "outputs": [
    {
     "name": "stdout",
     "output_type": "stream",
     "text": [
      "{'MATH': 42.86, 'LLCE': 85.71, 'HGGSP': 28.57, 'SPC': 28.57, 'SES': 42.86, 'HLP': 42.86, 'SVT': 14.29, 'LCA': 14.29}\n"
     ]
    }
   ],
   "source": [
    "# dictionnaire des spécialités et le pourcentage de choix\n",
    "for key, value in spec_choisi.items():\n",
    "    spec_choisi[key]=round(value/k_voisin*100,2)\n",
    "print(spec_choisi)    "
   ]
  },
  {
   "cell_type": "code",
   "execution_count": null,
   "metadata": {},
   "outputs": [],
   "source": []
  }
 ],
 "metadata": {
  "kernelspec": {
   "display_name": "Python 3",
   "language": "python",
   "name": "python3"
  },
  "language_info": {
   "codemirror_mode": {
    "name": "ipython",
    "version": 3
   },
   "file_extension": ".py",
   "mimetype": "text/x-python",
   "name": "python",
   "nbconvert_exporter": "python",
   "pygments_lexer": "ipython3",
   "version": "3.7.4"
  }
 },
 "nbformat": 4,
 "nbformat_minor": 2
}
