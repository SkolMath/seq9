{
 "cells": [
  {
   "cell_type": "markdown",
   "metadata": {},
   "source": [
    "## knn movies"
   ]
  },
  {
   "cell_type": "markdown",
   "metadata": {},
   "source": [
    "### fonction qui retourne la distance euclidienne entre 2 points"
   ]
  },
  {
   "cell_type": "code",
   "execution_count": 1,
   "metadata": {},
   "outputs": [],
   "source": [
    "import math\n",
    "\n",
    "def distance_euclidienne ( point1 , point2 ) :\n",
    "    distance_carre = 0\n",
    "    for i in range (len(point1)):\n",
    "        distance_carre += (float(point1[i]) - float(point2[i])) ** 2\n",
    "        \n",
    "    return math.sqrt(distance_carre)\n"
   ]
  },
  {
   "cell_type": "markdown",
   "metadata": {},
   "source": [
    "### fonction knn qui retourne la liste des k points les plus proches"
   ]
  },
  {
   "cell_type": "code",
   "execution_count": 2,
   "metadata": {},
   "outputs": [],
   "source": [
    "def knn(donnees, point, k):\n",
    "    liste_point=[]\n",
    "    for index, valeurs in enumerate(donnees):\n",
    "        distance = distance_euclidienne ( valeurs , point )\n",
    "        liste_point.append([distance, index])\n",
    "    #tri par défaut sur le 1er élément ici la distance    \n",
    "    liste_point=sorted(liste_point)[:k]\n",
    "    \n",
    "    liste_indice_voisin = [i[1] for i in liste_point]\n",
    "    \n",
    "    point_voisin = [(i,donnees[i]) for i in liste_indice_voisin]\n",
    "    return point_voisin\n",
    "        "
   ]
  },
  {
   "cell_type": "markdown",
   "metadata": {},
   "source": [
    "## Mini-movies\n"
   ]
  },
  {
   "cell_type": "code",
   "execution_count": 3,
   "metadata": {},
   "outputs": [
    {
     "name": "stdout",
     "output_type": "stream",
     "text": [
      "[['8', '1', '1', '1', '0', '0', '0', '0', '0'], ['7.7', '0', '1', '0', '0', '0', '1', '0', '0'], ['8.2', '1', '1', '0', '0', '0', '0', '0', '0'], ['8.3', '0', '1', '0', '0', '0', '0', '0', '0'], ['8.8', '0', '1', '0', '0', '0', '0', '0', '0'], ['6.8', '0', '1', '0', '0', '1', '0', '1', '0'], ['7.6', '0', '1', '0', '0', '0', '0', '0', '0'], ['5.9', '0', '1', '0', '0', '0', '1', '0', '0'], ['7.9', '0', '0', '0', '0', '0', '0', '0', '0'], ['7.2', '0', '1', '0', '0', '0', '0', '0', '0'], ['7.2', '0', '1', '0', '0', '0', '0', '0', '0'], ['7.4', '0', '1', '1', '0', '1', '0', '0', '0'], ['8.6', '0', '1', '0', '0', '0', '0', '0', '0'], ['8.2', '1', '0', '0', '1', '1', '0', '0', '0'], ['7.4', '0', '0', '0', '0', '0', '0', '0', '0'], ['8.8', '0', '0', '0', '0', '0', '0', '0', '0'], ['7.8', '1', '1', '0', '0', '0', '0', '0', '0'], ['8.6', '0', '0', '0', '0', '0', '0', '0', '0'], ['7.3', '0', '1', '0', '0', '0', '0', '0', '0'], ['7.3', '0', '0', '0', '0', '0', '0', '0', '0'], ['6.6', '0', '0', '1', '0', '0', '1', '0', '0'], ['7.3', '0', '1', '0', '0', '0', '0', '0', '0'], ['8', '0', '0', '0', '0', '0', '0', '0', '0'], ['7.2', '0', '0', '0', '1', '1', '0', '0', '0'], ['8.1', '0', '0', '0', '0', '0', '0', '0', '0'], ['7.9', '0', '0', '0', '1', '0', '0', '0', '0'], ['7.1', '0', '0', '0', '0', '0', '0', '0', '0'], ['8.2', '1', '1', '0', '0', '0', '0', '1', '0'], ['8.1', '1', '1', '0', '0', '0', '0', '1', '0'], ['7.4', '1', '1', '0', '0', '0', '0', '0', '0']]\n",
      "30\n",
      "['The Imitation Game', 'Ex Machina', 'A Beautiful Mind', 'Good Will Hunting', 'Forrest Gump', '21', 'Gifted', 'Travelling Salesman', 'Avatar', 'The Karate Kid', 'A Brilliant Young Mind', 'A Time To Kill', 'Interstellar', 'The Wolf of Wall Street', 'Black Panther', 'Inception', 'The Wind Rises', 'Spirited Away', 'Finding Forrester', 'The Fountain', 'The DaVinci Code', 'Stand and Deliver', 'The Terminator', '21 Jump Street', 'The Avengers', 'Thor: Ragnarok', 'Spirit: Stallion of the Cimarron', 'Hacksaw Ridge', '12 Years a Slave', 'Queen of Katwe']\n",
      "30\n"
     ]
    }
   ],
   "source": [
    "import csv\n",
    "\n",
    "table_critere=[]\n",
    "table_titre=[]\n",
    "\n",
    "with open('movies_recommandation_data.csv') as csvfile:\n",
    "    reader=csv.reader(csvfile)\n",
    "    next(reader)\n",
    "    for row in reader:\n",
    "        table_critere.append(row[2:11])\n",
    "        table_titre.append(row[1])\n",
    "print(table_critere)\n",
    "print(len(table_critere))\n",
    "print(table_titre)\n",
    "print(len(table_titre))"
   ]
  },
  {
   "cell_type": "code",
   "execution_count": 4,
   "metadata": {},
   "outputs": [
    {
     "name": "stdout",
     "output_type": "stream",
     "text": [
      "[(1, ['7.7', '0', '1', '0', '0', '0', '1', '0', '0']), (3, ['8.3', '0', '1', '0', '0', '0', '0', '0', '0']), (12, ['8.6', '0', '1', '0', '0', '0', '0', '0', '0'])]\n"
     ]
    }
   ],
   "source": [
    "#Movie ID,Movie Name,IMDB Rating,Biography,Drama,Thriller,Comedy,Crime,Mystery,History,Label\n",
    "\n",
    "mes_films = [8.3,0,1,0,1,0,1,0,0]\n",
    "k_voisin=3\n",
    "\n",
    "liste_film=knn(table_critere, mes_films,k_voisin) \n",
    "print(liste_film)"
   ]
  },
  {
   "cell_type": "code",
   "execution_count": 5,
   "metadata": {},
   "outputs": [
    {
     "name": "stdout",
     "output_type": "stream",
     "text": [
      "Ex Machina\n",
      "Good Will Hunting\n",
      "Interstellar\n"
     ]
    }
   ],
   "source": [
    "film_choisi = {}\n",
    "for i in range(len(liste_film)):\n",
    "    indice=liste_film[i][0]\n",
    "    print(table_titre[indice])"
   ]
  },
  {
   "cell_type": "code",
   "execution_count": null,
   "metadata": {},
   "outputs": [],
   "source": []
  }
 ],
 "metadata": {
  "kernelspec": {
   "display_name": "Python 3",
   "language": "python",
   "name": "python3"
  },
  "language_info": {
   "codemirror_mode": {
    "name": "ipython",
    "version": 3
   },
   "file_extension": ".py",
   "mimetype": "text/x-python",
   "name": "python",
   "nbconvert_exporter": "python",
   "pygments_lexer": "ipython3",
   "version": "3.7.4"
  }
 },
 "nbformat": 4,
 "nbformat_minor": 2
}
